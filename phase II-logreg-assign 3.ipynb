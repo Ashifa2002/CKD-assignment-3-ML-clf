{
 "cells": [
  {
   "cell_type": "code",
   "execution_count": 5,
   "id": "f0056142-65c2-4f8c-b6c8-c43f322eddca",
   "metadata": {},
   "outputs": [],
   "source": [
    "import pickle"
   ]
  },
  {
   "cell_type": "code",
   "execution_count": 6,
   "id": "111db9e4-bfb3-4891-a242-9657d66ffb1e",
   "metadata": {},
   "outputs": [
    {
     "name": "stderr",
     "output_type": "stream",
     "text": [
      "C:\\Anaconda3\\Lib\\site-packages\\sklearn\\base.py:493: UserWarning: X does not have valid feature names, but StandardScaler was fitted with feature names\n",
      "  warnings.warn(\n"
     ]
    }
   ],
   "source": [
    "preinput=scx.transform([[24,80,3,1,2,141.2,22,0.6,120,4.1,11,50,5897,5.2,1,0,0,1,0,1,0,1,1,0,1,0,0]])"
   ]
  },
  {
   "cell_type": "code",
   "execution_count": 7,
   "id": "2a3e5608-8f2d-41a5-be9e-8a5decb74ea4",
   "metadata": {},
   "outputs": [
    {
     "data": {
      "text/plain": [
       "array([0])"
      ]
     },
     "execution_count": 7,
     "metadata": {},
     "output_type": "execute_result"
    }
   ],
   "source": [
    "loaded_model=pickle.load(open('final_model_on_logreg_diseasepredict.sav','rb'))\n",
    "scx=pickle.load(open('scx.pkl','rb'))\n",
    "result1=loaded_model.predict(preinput)\n",
    "result1"
   ]
  },
  {
   "cell_type": "code",
   "execution_count": null,
   "id": "8ac19b88-6b6a-4ced-9ed6-9a6ad6780f92",
   "metadata": {},
   "outputs": [],
   "source": []
  }
 ],
 "metadata": {
  "kernelspec": {
   "display_name": "Python 3 (ipykernel)",
   "language": "python",
   "name": "python3"
  },
  "language_info": {
   "codemirror_mode": {
    "name": "ipython",
    "version": 3
   },
   "file_extension": ".py",
   "mimetype": "text/x-python",
   "name": "python",
   "nbconvert_exporter": "python",
   "pygments_lexer": "ipython3",
   "version": "3.12.4"
  }
 },
 "nbformat": 4,
 "nbformat_minor": 5
}
